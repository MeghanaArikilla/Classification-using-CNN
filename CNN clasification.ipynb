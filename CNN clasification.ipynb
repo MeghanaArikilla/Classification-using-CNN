{
  "nbformat": 4,
  "nbformat_minor": 0,
  "metadata": {
    "colab": {
      "provenance": []
    },
    "kernelspec": {
      "name": "python3",
      "display_name": "Python 3"
    },
    "language_info": {
      "name": "python"
    }
  },
  "cells": [
    {
      "cell_type": "markdown",
      "source": [
        "CIFAR-10 with CNN"
      ],
      "metadata": {
        "id": "Yrf0Nidy4v3p"
      }
    },
    {
      "cell_type": "code",
      "execution_count": null,
      "metadata": {
        "id": "fvLyCgEO1YzR"
      },
      "outputs": [],
      "source": [
        "import numpy as np \n",
        "import pandas as pd"
      ]
    },
    {
      "cell_type": "code",
      "source": [
        "from keras.datasets import cifar10\n",
        "from keras import layers, models\n"
      ],
      "metadata": {
        "id": "Fh5DL0s_5Mrf"
      },
      "execution_count": null,
      "outputs": []
    },
    {
      "cell_type": "code",
      "source": [
        "import matplotlib.pyplot as plt"
      ],
      "metadata": {
        "id": "aqu6CpPy5i3U"
      },
      "execution_count": null,
      "outputs": []
    },
    {
      "cell_type": "markdown",
      "source": [
        "***Dataset***"
      ],
      "metadata": {
        "id": "D09s-5Lu6Fkk"
      }
    },
    {
      "cell_type": "code",
      "source": [
        "(X_train,y_train),(X_test,y_test) = cifar10.load_data()\n",
        "X_train.shape"
      ],
      "metadata": {
        "colab": {
          "base_uri": "https://localhost:8080/"
        },
        "id": "79kYXwd-6APc",
        "outputId": "c4e41451-3297-4f64-9e09-3d88d876df59"
      },
      "execution_count": null,
      "outputs": [
        {
          "output_type": "stream",
          "name": "stdout",
          "text": [
            "Downloading data from https://www.cs.toronto.edu/~kriz/cifar-10-python.tar.gz\n",
            "170500096/170498071 [==============================] - 2s 0us/step\n",
            "170508288/170498071 [==============================] - 2s 0us/step\n"
          ]
        },
        {
          "output_type": "execute_result",
          "data": {
            "text/plain": [
              "(50000, 32, 32, 3)"
            ]
          },
          "metadata": {},
          "execution_count": 4
        }
      ]
    },
    {
      "cell_type": "markdown",
      "source": [
        "***Reshaping***"
      ],
      "metadata": {
        "id": "sDgXbytt6Rqg"
      }
    },
    {
      "cell_type": "code",
      "source": [
        "y_train[:5] #it is a 2d array"
      ],
      "metadata": {
        "colab": {
          "base_uri": "https://localhost:8080/"
        },
        "id": "L7Lvo4ry6VZV",
        "outputId": "9083b501-671f-423a-9670-b1251c13d937"
      },
      "execution_count": null,
      "outputs": [
        {
          "output_type": "execute_result",
          "data": {
            "text/plain": [
              "array([[6],\n",
              "       [9],\n",
              "       [9],\n",
              "       [4],\n",
              "       [1]], dtype=uint8)"
            ]
          },
          "metadata": {},
          "execution_count": 5
        }
      ]
    },
    {
      "cell_type": "markdown",
      "source": [
        "*Converting 2d array to 1d*"
      ],
      "metadata": {
        "id": "llBiH7Z-6wbK"
      }
    },
    {
      "cell_type": "code",
      "source": [
        "y_train = y_train.reshape(-1,) \n",
        "y_train[:5]"
      ],
      "metadata": {
        "colab": {
          "base_uri": "https://localhost:8080/"
        },
        "id": "S8UjTRqT6oUi",
        "outputId": "62a8df5a-769a-4555-ba3e-898e0134feb0"
      },
      "execution_count": null,
      "outputs": [
        {
          "output_type": "execute_result",
          "data": {
            "text/plain": [
              "array([6, 9, 9, 4, 1], dtype=uint8)"
            ]
          },
          "metadata": {},
          "execution_count": 6
        }
      ]
    },
    {
      "cell_type": "code",
      "source": [
        "classes = [\"airplane\",\"automobile\",\"bird\",\"cat\",\"deer\",\"dog\",\"frog\",\"horse\",\"ship\",\"truck\"]"
      ],
      "metadata": {
        "id": "IjkfQagx7FX6"
      },
      "execution_count": null,
      "outputs": []
    },
    {
      "cell_type": "code",
      "source": [
        "index=0\n",
        "def plt_image(X,y,index):\n",
        "    for index in range(10):\n",
        "        plt.figure(figsize=(15,2))\n",
        "        plt.imshow(X[index])\n",
        "        plt.xlabel(classes[y[index]])"
      ],
      "metadata": {
        "id": "TPXKVyY_7Irg"
      },
      "execution_count": null,
      "outputs": []
    },
    {
      "cell_type": "code",
      "source": [
        "plt_image(X_train,y_train,0)"
      ],
      "metadata": {
        "colab": {
          "base_uri": "https://localhost:8080/",
          "height": 1000
        },
        "id": "fL4_seQZ7Mvg",
        "outputId": "7dfca580-0038-451e-953e-d5e1fab842ba"
      },
      "execution_count": null,
      "outputs": [
        {
          "output_type": "display_data",
          "data": {
            "text/plain": [
              "<Figure size 1080x144 with 1 Axes>"
            ],
            "image/png": "[encoded data removed]"
          },
          "metadata": {
            "needs_background": "light"
          }
        },
        {
          "output_type": "display_data",
          "data": {
            "text/plain": [
              "<Figure size 1080x144 with 1 Axes>"
            ],
            "image/png": "[encoded data removed]"
          },
          "metadata": {
            "needs_background": "light"
          }
        },
        {
          "output_type": "display_data",
          "data": {
            "text/plain": [
              "<Figure size 1080x144 with 1 Axes>"
            ],
            "image/png": "[encoded data removed]"
          },
          "metadata": {
            "needs_background": "light"
          }
        },
        {
          "output_type": "display_data",
          "data": {
            "text/plain": [
              "<Figure size 1080x144 with 1 Axes>"
            ],
            "image/png": "[encoded data removed]"
          },
          "metadata": {
            "needs_background": "light"
          }
        },
        {
          "output_type": "display_data",
          "data": {
            "text/plain": [
              "<Figure size 1080x144 with 1 Axes>"
            ],
            "image/png": "[encoded data removed]"
          },
          "metadata": {
            "needs_background": "light"
          }
        },
        {
          "output_type": "display_data",
          "data": {
            "text/plain": [
              "<Figure size 1080x144 with 1 Axes>"
            ],
            "image/png": "[encoded data removed]"
          },
          "metadata": {
            "needs_background": "light"
          }
        },
        {
          "output_type": "display_data",
          "data": {
            "text/plain": [
              "<Figure size 1080x144 with 1 Axes>"
            ],
            "image/png": "[encoded data removed]"
          },
          "metadata": {
            "needs_background": "light"
          }
        },
        {
          "output_type": "display_data",
          "data": {
            "text/plain": [
              "<Figure size 1080x144 with 1 Axes>"
            ],
            "image/png": "[encoded data removed]"
          },
          "metadata": {
            "needs_background": "light"
          }
        },
        {
          "output_type": "display_data",
          "data": {
            "text/plain": [
              "<Figure size 1080x144 with 1 Axes>"
            ],
            "image/png": "[encoded data removed]"
          },
          "metadata": {
            "needs_background": "light"
          }
        },
        {
          "output_type": "display_data",
          "data": {
            "text/plain": [
              "<Figure size 1080x144 with 1 Axes>"
            ],
            "image/png": "[encoded data removed]"
          },
          "metadata": {
            "needs_background": "light"
          }
        }
      ]
    },
    {
      "cell_type": "code",
      "source": [
        "X_train[0]"
      ],
      "metadata": {
        "colab": {
          "base_uri": "https://localhost:8080/"
        },
        "id": "GZLKMSyZ7UbY",
        "outputId": "a406b9ca-d96e-4fc4-e789-16fb2f3d0f19"
      },
      "execution_count": null,
      "outputs": [
        {
          "output_type": "execute_result",
          "data": {
            "text/plain": [
              "array([[[ 59,  62,  63],\n",
              "        [ 43,  46,  45],\n",
              "        [ 50,  48,  43],\n",
              "        ...,\n",
              "        [158, 132, 108],\n",
              "        [152, 125, 102],\n",
              "        [148, 124, 103]],\n",
              "\n",
              "       [[ 16,  20,  20],\n",
              "        [  0,   0,   0],\n",
              "        [ 18,   8,   0],\n",
              "        ...,\n",
              "        [123,  88,  55],\n",
              "        [119,  83,  50],\n",
              "        [122,  87,  57]],\n",
              "\n",
              "       [[ 25,  24,  21],\n",
              "        [ 16,   7,   0],\n",
              "        [ 49,  27,   8],\n",
              "        ...,\n",
              "        [118,  84,  50],\n",
              "        [120,  84,  50],\n",
              "        [109,  73,  42]],\n",
              "\n",
              "       ...,\n",
              "\n",
              "       [[208, 170,  96],\n",
              "        [201, 153,  34],\n",
              "        [198, 161,  26],\n",
              "        ...,\n",
              "        [160, 133,  70],\n",
              "        [ 56,  31,   7],\n",
              "        [ 53,  34,  20]],\n",
              "\n",
              "       [[180, 139,  96],\n",
              "        [173, 123,  42],\n",
              "        [186, 144,  30],\n",
              "        ...,\n",
              "        [184, 148,  94],\n",
              "        [ 97,  62,  34],\n",
              "        [ 83,  53,  34]],\n",
              "\n",
              "       [[177, 144, 116],\n",
              "        [168, 129,  94],\n",
              "        [179, 142,  87],\n",
              "        ...,\n",
              "        [216, 184, 140],\n",
              "        [151, 118,  84],\n",
              "        [123,  92,  72]]], dtype=uint8)"
            ]
          },
          "metadata": {},
          "execution_count": 10
        }
      ]
    },
    {
      "cell_type": "markdown",
      "source": [
        "*Here the values are in between 0-255*"
      ],
      "metadata": {
        "id": "EaGgktdB7WgL"
      }
    },
    {
      "cell_type": "markdown",
      "source": [
        "***Normalization***"
      ],
      "metadata": {
        "id": "PpVdOFAR7mCT"
      }
    },
    {
      "cell_type": "code",
      "source": [
        "X_train = X_train / 255\n",
        "X_test  = X_test / 255"
      ],
      "metadata": {
        "id": "Bu5hOuYI7piw"
      },
      "execution_count": null,
      "outputs": []
    },
    {
      "cell_type": "code",
      "source": [
        "X_test[0]"
      ],
      "metadata": {
        "colab": {
          "base_uri": "https://localhost:8080/"
        },
        "id": "fTeEhcjW7vaI",
        "outputId": "f90be36e-712c-4096-a73e-6dfbecaa41d6"
      },
      "execution_count": null,
      "outputs": [
        {
          "output_type": "execute_result",
          "data": {
            "text/plain": [
              "array([[[0.61960784, 0.43921569, 0.19215686],\n",
              "        [0.62352941, 0.43529412, 0.18431373],\n",
              "        [0.64705882, 0.45490196, 0.2       ],\n",
              "        ...,\n",
              "        [0.5372549 , 0.37254902, 0.14117647],\n",
              "        [0.49411765, 0.35686275, 0.14117647],\n",
              "        [0.45490196, 0.33333333, 0.12941176]],\n",
              "\n",
              "       [[0.59607843, 0.43921569, 0.2       ],\n",
              "        [0.59215686, 0.43137255, 0.15686275],\n",
              "        [0.62352941, 0.44705882, 0.17647059],\n",
              "        ...,\n",
              "        [0.53333333, 0.37254902, 0.12156863],\n",
              "        [0.49019608, 0.35686275, 0.1254902 ],\n",
              "        [0.46666667, 0.34509804, 0.13333333]],\n",
              "\n",
              "       [[0.59215686, 0.43137255, 0.18431373],\n",
              "        [0.59215686, 0.42745098, 0.12941176],\n",
              "        [0.61960784, 0.43529412, 0.14117647],\n",
              "        ...,\n",
              "        [0.54509804, 0.38431373, 0.13333333],\n",
              "        [0.50980392, 0.37254902, 0.13333333],\n",
              "        [0.47058824, 0.34901961, 0.12941176]],\n",
              "\n",
              "       ...,\n",
              "\n",
              "       [[0.26666667, 0.48627451, 0.69411765],\n",
              "        [0.16470588, 0.39215686, 0.58039216],\n",
              "        [0.12156863, 0.34509804, 0.5372549 ],\n",
              "        ...,\n",
              "        [0.14901961, 0.38039216, 0.57254902],\n",
              "        [0.05098039, 0.25098039, 0.42352941],\n",
              "        [0.15686275, 0.33333333, 0.49803922]],\n",
              "\n",
              "       [[0.23921569, 0.45490196, 0.65882353],\n",
              "        [0.19215686, 0.4       , 0.58039216],\n",
              "        [0.1372549 , 0.33333333, 0.51764706],\n",
              "        ...,\n",
              "        [0.10196078, 0.32156863, 0.50980392],\n",
              "        [0.11372549, 0.32156863, 0.49411765],\n",
              "        [0.07843137, 0.25098039, 0.41960784]],\n",
              "\n",
              "       [[0.21176471, 0.41960784, 0.62745098],\n",
              "        [0.21960784, 0.41176471, 0.58431373],\n",
              "        [0.17647059, 0.34901961, 0.51764706],\n",
              "        ...,\n",
              "        [0.09411765, 0.30196078, 0.48627451],\n",
              "        [0.13333333, 0.32941176, 0.50588235],\n",
              "        [0.08235294, 0.2627451 , 0.43137255]]])"
            ]
          },
          "metadata": {},
          "execution_count": 12
        }
      ]
    },
    {
      "cell_type": "markdown",
      "source": [
        "***ANN for classification***"
      ],
      "metadata": {
        "id": "x6bTfSnB9CMw"
      }
    },
    {
      "cell_type": "code",
      "source": [
        "ann = models.Sequential([\n",
        "        layers.Flatten(input_shape=(32,32,3)),\n",
        "        layers.Dense(3000, activation='relu'),\n",
        "        layers.Dense(1000, activation='relu'),\n",
        "        layers.Dense(10, activation='softmax')    \n",
        "    ])\n",
        "\n",
        "ann.compile(optimizer='SGD',\n",
        "              loss='sparse_categorical_crossentropy',\n",
        "              metrics=['accuracy'])\n",
        "\n",
        "ann.fit(X_train, y_train, epochs=5)"
      ],
      "metadata": {
        "colab": {
          "base_uri": "https://localhost:8080/"
        },
        "id": "4B07STAZ9HSb",
        "outputId": "caf500c4-d88e-435e-8026-cbf170b05ef7"
      },
      "execution_count": null,
      "outputs": [
        {
          "output_type": "stream",
          "name": "stdout",
          "text": [
            "Epoch 1/5\n",
            "1563/1563 [==============================] - 108s 69ms/step - loss: 1.8113 - accuracy: 0.3582\n",
            "Epoch 2/5\n",
            "1563/1563 [==============================] - 108s 69ms/step - loss: 1.6227 - accuracy: 0.4282\n",
            "Epoch 3/5\n",
            "1563/1563 [==============================] - 108s 69ms/step - loss: 1.5405 - accuracy: 0.4564\n",
            "Epoch 4/5\n",
            "1563/1563 [==============================] - 108s 69ms/step - loss: 1.4817 - accuracy: 0.4788\n",
            "Epoch 5/5\n",
            "1563/1563 [==============================] - 108s 69ms/step - loss: 1.4330 - accuracy: 0.4951\n"
          ]
        },
        {
          "output_type": "execute_result",
          "data": {
            "text/plain": [
              "<keras.callbacks.History at 0x7f9ac54a5fd0>"
            ]
          },
          "metadata": {},
          "execution_count": 13
        }
      ]
    },
    {
      "cell_type": "markdown",
      "source": [
        "***Classification report***"
      ],
      "metadata": {
        "id": "7gGIupBF_UI_"
      }
    },
    {
      "cell_type": "code",
      "source": [
        "from sklearn.metrics import confusion_matrix , classification_report\n",
        "import numpy as np\n",
        "y_pred = ann.predict(X_test)\n",
        "y_pred_classes = [np.argmax(element) for element in y_pred]\n",
        "\n",
        "print(\"Classification Report: \\n\", classification_report(y_test, y_pred_classes))"
      ],
      "metadata": {
        "colab": {
          "base_uri": "https://localhost:8080/"
        },
        "id": "ROqVFvAm_TmW",
        "outputId": "6b2c90e8-46d0-42c4-883d-1acc8730704d"
      },
      "execution_count": null,
      "outputs": [
        {
          "output_type": "stream",
          "name": "stdout",
          "text": [
            "Classification Report: \n",
            "               precision    recall  f1-score   support\n",
            "\n",
            "           0       0.68      0.41      0.51      1000\n",
            "           1       0.72      0.42      0.53      1000\n",
            "           2       0.40      0.32      0.36      1000\n",
            "           3       0.38      0.18      0.25      1000\n",
            "           4       0.58      0.21      0.31      1000\n",
            "           5       0.32      0.51      0.39      1000\n",
            "           6       0.56      0.50      0.53      1000\n",
            "           7       0.35      0.76      0.48      1000\n",
            "           8       0.72      0.49      0.58      1000\n",
            "           9       0.39      0.74      0.51      1000\n",
            "\n",
            "    accuracy                           0.45     10000\n",
            "   macro avg       0.51      0.45      0.44     10000\n",
            "weighted avg       0.51      0.45      0.44     10000\n",
            "\n"
          ]
        }
      ]
    },
    {
      "cell_type": "markdown",
      "source": [
        "***CNN model ***"
      ],
      "metadata": {
        "id": "5XzFzJsp_aqZ"
      }
    },
    {
      "cell_type": "code",
      "source": [
        "cnn = models.Sequential([\n",
        "    layers.Conv2D(filters=32, kernel_size=(3, 3), activation='relu', input_shape=(32, 32, 3)),\n",
        "    layers.MaxPooling2D((2, 2)),\n",
        "    \n",
        "    layers.Conv2D(filters=64, kernel_size=(3, 3), activation='relu'),\n",
        "    layers.MaxPooling2D((2, 2)),\n",
        "    \n",
        "    layers.Flatten(),\n",
        "    layers.Dense(64, activation='relu'),\n",
        "    layers.Dense(10, activation='softmax')\n",
        "])"
      ],
      "metadata": {
        "id": "s02wbuAs_YgY"
      },
      "execution_count": null,
      "outputs": []
    },
    {
      "cell_type": "code",
      "source": [
        "cnn.compile(optimizer='adam',\n",
        "              loss='sparse_categorical_crossentropy',\n",
        "              metrics=['accuracy'])"
      ],
      "metadata": {
        "id": "21UJBw7g_kKp"
      },
      "execution_count": null,
      "outputs": []
    },
    {
      "cell_type": "code",
      "source": [
        "cnn.fit(X_train, y_train, epochs=20)"
      ],
      "metadata": {
        "colab": {
          "base_uri": "https://localhost:8080/"
        },
        "id": "puCHnJGH_lfx",
        "outputId": "16abcf18-68ca-4c26-c688-16ddcdcaebd2"
      },
      "execution_count": null,
      "outputs": [
        {
          "output_type": "stream",
          "name": "stdout",
          "text": [
            "Epoch 1/20\n",
            "1563/1563 [==============================] - 65s 41ms/step - loss: 1.4459 - accuracy: 0.4789\n",
            "Epoch 2/20\n",
            "1563/1563 [==============================] - 65s 41ms/step - loss: 1.0973 - accuracy: 0.6144\n",
            "Epoch 3/20\n",
            "1563/1563 [==============================] - 65s 41ms/step - loss: 0.9713 - accuracy: 0.6612\n",
            "Epoch 4/20\n",
            "1563/1563 [==============================] - 64s 41ms/step - loss: 0.8869 - accuracy: 0.6929\n",
            "Epoch 5/20\n",
            "1563/1563 [==============================] - 64s 41ms/step - loss: 0.8285 - accuracy: 0.7142\n",
            "Epoch 6/20\n",
            "1563/1563 [==============================] - 64s 41ms/step - loss: 0.7713 - accuracy: 0.7310\n",
            "Epoch 7/20\n",
            "1563/1563 [==============================] - 64s 41ms/step - loss: 0.7207 - accuracy: 0.7491\n",
            "Epoch 8/20\n",
            "1563/1563 [==============================] - 64s 41ms/step - loss: 0.6779 - accuracy: 0.7632\n",
            "Epoch 9/20\n",
            "1563/1563 [==============================] - 64s 41ms/step - loss: 0.6413 - accuracy: 0.7765\n",
            "Epoch 10/20\n",
            "1563/1563 [==============================] - 64s 41ms/step - loss: 0.6028 - accuracy: 0.7902\n",
            "Epoch 11/20\n",
            "1563/1563 [==============================] - 64s 41ms/step - loss: 0.5670 - accuracy: 0.8033\n",
            "Epoch 12/20\n",
            "1563/1563 [==============================] - 64s 41ms/step - loss: 0.5384 - accuracy: 0.8118\n",
            "Epoch 13/20\n",
            "1563/1563 [==============================] - 64s 41ms/step - loss: 0.5073 - accuracy: 0.8210\n",
            "Epoch 14/20\n",
            "1563/1563 [==============================] - 65s 42ms/step - loss: 0.4808 - accuracy: 0.8310\n",
            "Epoch 15/20\n",
            "1563/1563 [==============================] - 65s 42ms/step - loss: 0.4559 - accuracy: 0.8409\n",
            "Epoch 16/20\n",
            "1563/1563 [==============================] - 65s 42ms/step - loss: 0.4291 - accuracy: 0.8467\n",
            "Epoch 17/20\n",
            "1563/1563 [==============================] - 65s 42ms/step - loss: 0.4040 - accuracy: 0.8556\n",
            "Epoch 18/20\n",
            "1563/1563 [==============================] - 65s 41ms/step - loss: 0.3869 - accuracy: 0.8618\n",
            "Epoch 19/20\n",
            "1563/1563 [==============================] - 64s 41ms/step - loss: 0.3634 - accuracy: 0.8712\n",
            "Epoch 20/20\n",
            "1563/1563 [==============================] - 65s 41ms/step - loss: 0.3418 - accuracy: 0.8774\n"
          ]
        },
        {
          "output_type": "execute_result",
          "data": {
            "text/plain": [
              "<keras.callbacks.History at 0x7f9ac1cc7790>"
            ]
          },
          "metadata": {},
          "execution_count": 17
        }
      ]
    },
    {
      "cell_type": "markdown",
      "source": [
        "***Evaluation***"
      ],
      "metadata": {
        "id": "FR1B7enx_tko"
      }
    },
    {
      "cell_type": "code",
      "source": [
        "cnn.evaluate(X_test,y_test)"
      ],
      "metadata": {
        "colab": {
          "base_uri": "https://localhost:8080/"
        },
        "id": "WhsOS7b-_s5G",
        "outputId": "301cf286-d75c-4317-a0b9-fa65fbf5962d"
      },
      "execution_count": null,
      "outputs": [
        {
          "output_type": "stream",
          "name": "stdout",
          "text": [
            "313/313 [==============================] - 4s 14ms/step - loss: 1.2296 - accuracy: 0.6846\n"
          ]
        },
        {
          "output_type": "execute_result",
          "data": {
            "text/plain": [
              "[1.2296421527862549, 0.6845999956130981]"
            ]
          },
          "metadata": {},
          "execution_count": 18
        }
      ]
    },
    {
      "cell_type": "code",
      "source": [
        "y_pred = cnn.predict(X_test)\n",
        "y_pred[:5]"
      ],
      "metadata": {
        "colab": {
          "base_uri": "https://localhost:8080/"
        },
        "id": "7sJD8IKm_1oJ",
        "outputId": "eeb11175-7bc4-4b9f-f388-cad9d1032675"
      },
      "execution_count": null,
      "outputs": [
        {
          "output_type": "execute_result",
          "data": {
            "text/plain": [
              "array([[2.0524739e-07, 7.2622872e-09, 3.4681809e-04, 9.2271239e-01,\n",
              "        1.5983618e-05, 7.5812683e-02, 1.0581950e-03, 5.6374556e-06,\n",
              "        4.8028585e-05, 1.8854956e-11],\n",
              "       [3.6701003e-06, 2.6910233e-05, 3.9892871e-09, 3.3572631e-11,\n",
              "        2.3999686e-11, 2.0923923e-14, 4.1366240e-14, 5.3409391e-11,\n",
              "        9.9996912e-01, 2.1739679e-07],\n",
              "       [2.7472749e-01, 2.0305226e-02, 3.2953198e-05, 9.7202108e-05,\n",
              "        1.8698915e-05, 3.3151984e-04, 2.9298154e-04, 4.0358005e-05,\n",
              "        3.1402946e-02, 6.7275059e-01],\n",
              "       [8.8357306e-01, 2.3658946e-04, 1.2740377e-02, 1.7518603e-06,\n",
              "        6.1321909e-05, 4.8506681e-08, 6.8230103e-05, 6.6054923e-07,\n",
              "        1.0329912e-01, 1.8886452e-05],\n",
              "       [5.0282338e-09, 5.3883198e-08, 5.7056586e-05, 7.9235137e-03,\n",
              "        1.5743767e-01, 1.7130587e-04, 8.3440626e-01, 4.5631419e-09,\n",
              "        4.0905875e-06, 3.8783914e-11]], dtype=float32)"
            ]
          },
          "metadata": {},
          "execution_count": 19
        }
      ]
    },
    {
      "cell_type": "code",
      "source": [
        "y_classes = [np.argmax(element) for element in y_pred]\n",
        "y_classes[:5]"
      ],
      "metadata": {
        "colab": {
          "base_uri": "https://localhost:8080/"
        },
        "id": "ieJO-2V__8WD",
        "outputId": "422e58b7-77dc-4add-e4ee-5752579a5f30"
      },
      "execution_count": null,
      "outputs": [
        {
          "output_type": "execute_result",
          "data": {
            "text/plain": [
              "[3, 8, 9, 0, 6]"
            ]
          },
          "metadata": {},
          "execution_count": 20
        }
      ]
    },
    {
      "cell_type": "code",
      "source": [
        "y_test.reshape(-1)"
      ],
      "metadata": {
        "colab": {
          "base_uri": "https://localhost:8080/"
        },
        "id": "MdpAr83C__hq",
        "outputId": "51588b36-617a-4d80-c29d-60fbf3af016b"
      },
      "execution_count": null,
      "outputs": [
        {
          "output_type": "execute_result",
          "data": {
            "text/plain": [
              "array([3, 8, 8, ..., 5, 1, 7], dtype=uint8)"
            ]
          },
          "metadata": {},
          "execution_count": 21
        }
      ]
    },
    {
      "cell_type": "markdown",
      "source": [
        "***Plotting***"
      ],
      "metadata": {
        "id": "jzT_Ct94APUV"
      }
    },
    {
      "cell_type": "code",
      "source": [
        "plt_image(X_test,y_classes,0)"
      ],
      "metadata": {
        "colab": {
          "base_uri": "https://localhost:8080/",
          "height": 1000
        },
        "id": "bPTN_Wp-ACrF",
        "outputId": "85bfbe9e-e90f-417a-ee79-e43bf7485e8d"
      },
      "execution_count": null,
      "outputs": [
        {
          "output_type": "display_data",
          "data": {
            "text/plain": [
              "<Figure size 1080x144 with 1 Axes>"
            ],
            "image/png": "[encoded data removed]"
          },
          "metadata": {
            "needs_background": "light"
          }
        },
        {
          "output_type": "display_data",
          "data": {
            "text/plain": [
              "<Figure size 1080x144 with 1 Axes>"
            ],
            "image/png": "[encoded data removed]"
          },
          "metadata": {
            "needs_background": "light"
          }
        },
        {
          "output_type": "display_data",
          "data": {
            "text/plain": [
              "<Figure size 1080x144 with 1 Axes>"
            ],
            "image/png": "[encoded data removed]"
          },
          "metadata": {
            "needs_background": "light"
          }
        },
        {
          "output_type": "display_data",
          "data": {
            "text/plain": [
              "<Figure size 1080x144 with 1 Axes>"
            ],
            "image/png": "[encoded data removed]"
          },
          "metadata": {
            "needs_background": "light"
          }
        },
        {
          "output_type": "display_data",
          "data": {
            "text/plain": [
              "<Figure size 1080x144 with 1 Axes>"
            ],
            "image/png": "[encoded data removed]"
          },
          "metadata": {
            "needs_background": "light"
          }
        },
        {
          "output_type": "display_data",
          "data": {
            "text/plain": [
              "<Figure size 1080x144 with 1 Axes>"
            ],
            "image/png": "[encoded data removed]"
          },
          "metadata": {
            "needs_background": "light"
          }
        },
        {
          "output_type": "display_data",
          "data": {
            "text/plain": [
              "<Figure size 1080x144 with 1 Axes>"
            ],
            "image/png": "[encoded data removed]"
          },
          "metadata": {
            "needs_background": "light"
          }
        },
        {
          "output_type": "display_data",
          "data": {
            "text/plain": [
              "<Figure size 1080x144 with 1 Axes>"
            ],
            "image/png": "[encoded data removed]"
          },
          "metadata": {
            "needs_background": "light"
          }
        },
        {
          "output_type": "display_data",
          "data": {
            "text/plain": [
              "<Figure size 1080x144 with 1 Axes>"
            ],
            "image/png": "[encoded data removed]"
          },
          "metadata": {
            "needs_background": "light"
          }
        },
        {
          "output_type": "display_data",
          "data": {
            "text/plain": [
              "<Figure size 1080x144 with 1 Axes>"
            ],
            "image/png": "[encoded data removed]"
          },
          "metadata": {
            "needs_background": "light"
          }
        }
      ]
    },
    {
      "cell_type": "markdown",
      "source": [
        "***Class***"
      ],
      "metadata": {
        "id": "YI3OuxJIAXkF"
      }
    },
    {
      "cell_type": "code",
      "source": [
        "classes[y_classes[3]]"
      ],
      "metadata": {
        "colab": {
          "base_uri": "https://localhost:8080/",
          "height": 36
        },
        "id": "ShXUni9AAWLB",
        "outputId": "be793d95-44c4-4751-c43f-9527d56419c8"
      },
      "execution_count": null,
      "outputs": [
        {
          "output_type": "execute_result",
          "data": {
            "text/plain": [
              "'airplane'"
            ],
            "application/vnd.google.colaboratory.intrinsic+json": {
              "type": "string"
            }
          },
          "metadata": {},
          "execution_count": 23
        }
      ]
    }
  ]
}